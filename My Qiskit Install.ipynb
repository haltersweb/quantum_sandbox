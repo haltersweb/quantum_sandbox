{
 "cells": [
  {
   "cell_type": "markdown",
   "id": "e69d8a46",
   "metadata": {},
   "source": [
    "make sure you `pip install --upgrade qiskit` first"
   ]
  },
  {
   "cell_type": "code",
   "execution_count": 1,
   "id": "c6e44e5a",
   "metadata": {},
   "outputs": [],
   "source": [
    "import qiskit"
   ]
  },
  {
   "cell_type": "code",
   "execution_count": 2,
   "id": "db420e2d",
   "metadata": {},
   "outputs": [
    {
     "data": {
      "text/plain": [
       "{'qiskit-terra': '0.23.3', 'qiskit-aer': '0.12.0', 'qiskit-ignis': None, 'qiskit-ibmq-provider': '0.20.2', 'qiskit': '0.42.1', 'qiskit-nature': None, 'qiskit-finance': None, 'qiskit-optimization': None, 'qiskit-machine-learning': None}"
      ]
     },
     "execution_count": 2,
     "metadata": {},
     "output_type": "execute_result"
    }
   ],
   "source": [
    "qiskit.__qiskit_version__"
   ]
  },
  {
   "cell_type": "markdown",
   "id": "da7e57bf",
   "metadata": {},
   "source": [
    "set up our Qiskit __API token__"
   ]
  },
  {
   "cell_type": "code",
   "execution_count": 3,
   "id": "bd8bbed0",
   "metadata": {},
   "outputs": [],
   "source": [
    "from qiskit import IBMQ"
   ]
  },
  {
   "cell_type": "code",
   "execution_count": null,
   "id": "90eabd4d",
   "metadata": {},
   "outputs": [],
   "source": [
    "# IBMQ.ibmq.save_account('<pasted my API token here>') # only need to do this once"
   ]
  },
  {
   "cell_type": "code",
   "execution_count": 5,
   "id": "6e60f982",
   "metadata": {},
   "outputs": [
    {
     "data": {
      "text/plain": [
       "<AccountProvider for IBMQ(hub='ibm-q', group='open', project='main')>"
      ]
     },
     "execution_count": 5,
     "metadata": {},
     "output_type": "execute_result"
    }
   ],
   "source": [
    "IBMQ.ibmq.load_account()"
   ]
  },
  {
   "cell_type": "code",
   "execution_count": null,
   "id": "0b3ff060",
   "metadata": {},
   "outputs": [],
   "source": []
  }
 ],
 "metadata": {
  "kernelspec": {
   "display_name": "Python 3 (ipykernel)",
   "language": "python",
   "name": "python3"
  },
  "language_info": {
   "codemirror_mode": {
    "name": "ipython",
    "version": 3
   },
   "file_extension": ".py",
   "mimetype": "text/x-python",
   "name": "python",
   "nbconvert_exporter": "python",
   "pygments_lexer": "ipython3",
   "version": "3.10.8"
  }
 },
 "nbformat": 4,
 "nbformat_minor": 5
}
