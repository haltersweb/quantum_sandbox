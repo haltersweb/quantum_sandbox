{
 "cells": [
  {
   "cell_type": "code",
   "execution_count": 1,
   "id": "d9f5f906",
   "metadata": {},
   "outputs": [],
   "source": [
    "from qiskit import *  #import all qiskit libraries"
   ]
  },
  {
   "cell_type": "markdown",
   "id": "df5834c6",
   "metadata": {},
   "source": [
    "We will work with a 2 qubit quantum circuit (quantum register)"
   ]
  },
  {
   "cell_type": "code",
   "execution_count": 2,
   "id": "f2a66f84",
   "metadata": {},
   "outputs": [],
   "source": [
    "# new quantum register with two qubits\n",
    "qr = QuantumRegister(2)"
   ]
  },
  {
   "cell_type": "markdown",
   "id": "f363cf66",
   "metadata": {},
   "source": [
    "now we need a classical register to take measurements from these qubits"
   ]
  },
  {
   "cell_type": "code",
   "execution_count": 3,
   "id": "6cfc809d",
   "metadata": {},
   "outputs": [],
   "source": [
    "cr = ClassicalRegister(2)"
   ]
  },
  {
   "cell_type": "markdown",
   "id": "c7d74d66",
   "metadata": {},
   "source": [
    "now create a circuit using these two registers"
   ]
  },
  {
   "cell_type": "code",
   "execution_count": 4,
   "id": "449823f9",
   "metadata": {},
   "outputs": [],
   "source": [
    "circuit = QuantumCircuit(qr, cr) #parameters: quantum register and classical register"
   ]
  },
  {
   "cell_type": "markdown",
   "id": "cc13d32a",
   "metadata": {},
   "source": [
    "use `matplotlib` inline to draw things"
   ]
  },
  {
   "cell_type": "markdown",
   "id": "ee799b76",
   "metadata": {},
   "source": [
    "draw the circuit"
   ]
  },
  {
   "cell_type": "code",
   "execution_count": 5,
   "id": "8ea5fa41",
   "metadata": {},
   "outputs": [
    {
     "data": {
      "text/html": [
       "<pre style=\"word-wrap: normal;white-space: pre;background: #fff0;line-height: 1.1;font-family: &quot;Courier New&quot;,Courier,monospace\">      \n",
       "q0_0: \n",
       "      \n",
       "q0_1: \n",
       "      \n",
       "c0: 2/\n",
       "      </pre>"
      ],
      "text/plain": [
       "      \n",
       "q0_0: \n",
       "      \n",
       "q0_1: \n",
       "      \n",
       "c0: 2/\n",
       "      "
      ]
     },
     "execution_count": 5,
     "metadata": {},
     "output_type": "execute_result"
    }
   ],
   "source": [
    "circuit.draw() # drawing without matplotlib"
   ]
  },
  {
   "cell_type": "markdown",
   "id": "7a1bf09a",
   "metadata": {},
   "source": [
    "add a Hadamard gate ( `.h(<the qubit>)` ) to the first qubit"
   ]
  },
  {
   "cell_type": "code",
   "execution_count": 6,
   "id": "2adf177a",
   "metadata": {},
   "outputs": [
    {
     "data": {
      "text/plain": [
       "<qiskit.circuit.instructionset.InstructionSet at 0x10f9ea7a0>"
      ]
     },
     "execution_count": 6,
     "metadata": {},
     "output_type": "execute_result"
    }
   ],
   "source": [
    "circuit.h(qr[0]) # Hadamard gate"
   ]
  },
  {
   "cell_type": "markdown",
   "id": "333de512",
   "metadata": {},
   "source": [
    "draw the circuit using matplotlib ( `mpl` )\n",
    "\n",
    "(note: you will also need to `pip install pylatexenc` to draw the circuit.  Then close Notebook and open again)"
   ]
  },
  {
   "cell_type": "code",
   "execution_count": 7,
   "id": "3d28e436",
   "metadata": {},
   "outputs": [],
   "source": [
    "%matplotlib inline"
   ]
  },
  {
   "cell_type": "code",
   "execution_count": 8,
   "id": "49e4b438",
   "metadata": {},
   "outputs": [
    {
     "data": {
      "image/png": "[encoded data removed]",
      "text/plain": [
       "<Figure size 221.712x284.278 with 1 Axes>"
      ]
     },
     "execution_count": 8,
     "metadata": {},
     "output_type": "execute_result"
    }
   ],
   "source": [
    "circuit.draw(output='mpl')"
   ]
  },
  {
   "cell_type": "markdown",
   "id": "50590f37",
   "metadata": {},
   "source": [
    "create a controlled NOT gate (`cx`) between two qubits.  It's like an if this than that statement.  Used to entangle (and detangle) Bell states."
   ]
  },
  {
   "cell_type": "code",
   "execution_count": 9,
   "id": "304541e4",
   "metadata": {},
   "outputs": [
    {
     "data": {
      "text/plain": [
       "<qiskit.circuit.instructionset.InstructionSet at 0x11f5293f0>"
      ]
     },
     "execution_count": 9,
     "metadata": {},
     "output_type": "execute_result"
    }
   ],
   "source": [
    "circuit.cx(qr[0], qr[1])"
   ]
  },
  {
   "cell_type": "code",
   "execution_count": 14,
   "id": "f3ef05f6",
   "metadata": {},
   "outputs": [
    {
     "data": {
      "image/png": "[encoded data removed]",
      "text/plain": [
       "<Figure size 305.323x284.278 with 1 Axes>"
      ]
     },
     "execution_count": 14,
     "metadata": {},
     "output_type": "execute_result"
    }
   ],
   "source": [
    "circuit.draw(output='mpl')"
   ]
  },
  {
   "cell_type": "code",
   "execution_count": 15,
   "id": "87c325d4",
   "metadata": {},
   "outputs": [
    {
     "data": {
      "text/plain": [
       "<qiskit.circuit.instructionset.InstructionSet at 0x11f52b040>"
      ]
     },
     "execution_count": 15,
     "metadata": {},
     "output_type": "execute_result"
    }
   ],
   "source": [
    "circuit.measure(qr, cr)"
   ]
  },
  {
   "cell_type": "code",
   "execution_count": 16,
   "id": "747d29c3",
   "metadata": {},
   "outputs": [
    {
     "data": {
      "image/png": "[encoded data removed]",
      "text/plain": [
       "<Figure size 472.545x284.278 with 1 Axes>"
      ]
     },
     "execution_count": 16,
     "metadata": {},
     "output_type": "execute_result"
    }
   ],
   "source": [
    "circuit.draw(output='mpl')"
   ]
  },
  {
   "cell_type": "code",
   "execution_count": 17,
   "id": "e12bfd1a",
   "metadata": {},
   "outputs": [],
   "source": [
    "?circuit.draw"
   ]
  },
  {
   "cell_type": "code",
   "execution_count": 21,
   "id": "870a10af",
   "metadata": {},
   "outputs": [
    {
     "data": {
      "image/png": "[encoded data removed]",
      "text/plain": [
       "<Figure size 472.545x367.889 with 1 Axes>"
      ]
     },
     "execution_count": 21,
     "metadata": {},
     "output_type": "execute_result"
    }
   ],
   "source": [
    "circuit.draw(output='mpl', cregbundle=False) #cregbundle (classical register bundling) default True"
   ]
  },
  {
   "cell_type": "markdown",
   "id": "779a561d",
   "metadata": {},
   "source": [
    "use a QASM simulator imported from `Aer`.  QASM stands for \"quantum assembly language\"."
   ]
  },
  {
   "cell_type": "code",
   "execution_count": 22,
   "id": "7aac9560",
   "metadata": {},
   "outputs": [],
   "source": [
    "simulator = Aer.get_backend('qasm_simulator')"
   ]
  },
  {
   "cell_type": "markdown",
   "id": "2557ed06",
   "metadata": {},
   "source": [
    "execute the circuit with `execute`.  Pass the `circuit` and the `backend` I want to use (in this case `simulator`).  `shots` (number of times it runs) defaults to `1024`."
   ]
  },
  {
   "cell_type": "code",
   "execution_count": 46,
   "id": "b3c85f1c",
   "metadata": {},
   "outputs": [],
   "source": [
    "result = execute(circuit, backend = simulator, shots = 2000).result()"
   ]
  },
  {
   "cell_type": "markdown",
   "id": "6851ae0b",
   "metadata": {},
   "source": [
    "bring in some qiskit __visualization tools__"
   ]
  },
  {
   "cell_type": "code",
   "execution_count": 25,
   "id": "25341847",
   "metadata": {},
   "outputs": [],
   "source": [
    "from qiskit.tools.visualization import plot_histogram"
   ]
  },
  {
   "cell_type": "markdown",
   "id": "e3a42264",
   "metadata": {},
   "source": [
    "view the results (counts)"
   ]
  },
  {
   "cell_type": "code",
   "execution_count": 47,
   "id": "d03a8edd",
   "metadata": {},
   "outputs": [
    {
     "data": {
      "image/png": "[encoded data removed]",
      "text/plain": [
       "<Figure size 700x500 with 1 Axes>"
      ]
     },
     "execution_count": 47,
     "metadata": {},
     "output_type": "execute_result"
    }
   ],
   "source": [
    "plot_histogram(result.get_counts(circuit))"
   ]
  },
  {
   "cell_type": "markdown",
   "id": "463f4543",
   "metadata": {},
   "source": [
    "## run on quantum computer\n",
    "\n",
    "first load my account\n",
    "\n",
    "NOTE: I already put my API token in (see My Qiskit Install)"
   ]
  },
  {
   "cell_type": "code",
   "execution_count": 48,
   "id": "c2afaaa0",
   "metadata": {},
   "outputs": [
    {
     "name": "stderr",
     "output_type": "stream",
     "text": [
      "/var/folders/bq/fvvldy095vz80qbkf7d8zz2h0000gp/T/ipykernel_97207/485379158.py:1: DeprecationWarning: The package qiskit.providers.ibmq is being deprecated. Please see https://ibm.biz/provider_migration_guide to get instructions on how to migrate to qiskit-ibm-provider (https://github.com/Qiskit/qiskit-ibm-provider) and qiskit-ibm-runtime (https://github.com/Qiskit/qiskit-ibm-runtime).\n",
      "  IBMQ.load_account()\n",
      "/var/folders/bq/fvvldy095vz80qbkf7d8zz2h0000gp/T/ipykernel_97207/485379158.py:1: DeprecationWarning: The qiskit.IBMQ entrypoint and the qiskit-ibmq-provider package (accessible from 'qiskit.providers.ibmq`) are deprecated and will be removed in a future release. Instead you should use the qiskit-ibm-provider package which is accessible from 'qiskit_ibm_provider'. You can install it with 'pip install qiskit_ibm_provider'. Just replace 'qiskit.IBMQ' with 'qiskit_ibm_provider.IBMProvider'\n",
      "  IBMQ.load_account()\n"
     ]
    },
    {
     "data": {
      "text/plain": [
       "<AccountProvider for IBMQ(hub='ibm-q', group='open', project='main')>"
      ]
     },
     "execution_count": 48,
     "metadata": {},
     "output_type": "execute_result"
    }
   ],
   "source": [
    "IBMQ.load_account()"
   ]
  },
  {
   "cell_type": "code",
   "execution_count": 49,
   "id": "004aa4df",
   "metadata": {},
   "outputs": [],
   "source": [
    "provider = IBMQ.get_provider('ibm-q')"
   ]
  },
  {
   "cell_type": "markdown",
   "id": "8863b823",
   "metadata": {},
   "source": [
    "get a list of backend providers"
   ]
  },
  {
   "cell_type": "code",
   "execution_count": 55,
   "id": "df250c22",
   "metadata": {},
   "outputs": [],
   "source": [
    "from qiskit.tools.monitor import backend_overview"
   ]
  },
  {
   "cell_type": "code",
   "execution_count": 56,
   "id": "1d67f856",
   "metadata": {},
   "outputs": [
    {
     "name": "stdout",
     "output_type": "stream",
     "text": [
      "ibm_oslo                     ibm_perth                    ibm_nairobi\n",
      "--------                     ---------                    -----------\n",
      "Num. Qubits:  7              Num. Qubits:  7              Num. Qubits:  7\n",
      "Pending Jobs: 137            Pending Jobs: 142            Pending Jobs: 42\n",
      "Least busy:   False          Least busy:   False          Least busy:   False\n",
      "Operational:  True           Operational:  True           Operational:  True\n",
      "Avg. T1:      113.6          Avg. T1:      185.1          Avg. T1:      124.5\n",
      "Avg. T2:      114.2          Avg. T2:      122.4          Avg. T2:      74.2\n",
      "\n",
      "\n",
      "\n",
      "ibm_lagos                    ibmq_manila                  ibmq_jakarta\n",
      "---------                    -----------                  ------------\n",
      "Num. Qubits:  7              Num. Qubits:  5              Num. Qubits:  7\n",
      "Pending Jobs: 44             Pending Jobs: 115            Pending Jobs: 61\n",
      "Least busy:   False          Least busy:   False          Least busy:   False\n",
      "Operational:  True           Operational:  True           Operational:  True\n",
      "Avg. T1:      135.0          Avg. T1:      184.8          Avg. T1:      104.1\n",
      "Avg. T2:      96.1           Avg. T2:      66.7           Avg. T2:      40.5\n",
      "\n",
      "\n",
      "\n",
      "ibmq_quito                  ibmq_belem                   ibmq_lima\n",
      "----------                  ----------                   ---------\n",
      "Num. Qubits:  5             Num. Qubits:  5              Num. Qubits:  5\n",
      "Pending Jobs: 10            Pending Jobs: 32             Pending Jobs: 37\n",
      "Least busy:   True          Least busy:   False          Least busy:   False\n",
      "Operational:  True          Operational:  True           Operational:  True\n",
      "Avg. T1:      75.3          Avg. T1:      107.8          Avg. T1:      69.7\n",
      "Avg. T2:      73.5          Avg. T2:      121.2          Avg. T2:      97.5\n",
      "\n",
      "\n",
      "\n"
     ]
    }
   ],
   "source": [
    "backend_overview()"
   ]
  },
  {
   "cell_type": "markdown",
   "id": "ee8d5877",
   "metadata": {},
   "source": [
    "Get the quantum computer we have chosen"
   ]
  },
  {
   "cell_type": "code",
   "execution_count": 58,
   "id": "574e9c07",
   "metadata": {},
   "outputs": [],
   "source": [
    "q_comp = provider.get_backend('ibmq_quito')"
   ]
  },
  {
   "cell_type": "markdown",
   "id": "2a372b0f",
   "metadata": {},
   "source": [
    "run the job"
   ]
  },
  {
   "cell_type": "code",
   "execution_count": 59,
   "id": "af63cc51",
   "metadata": {},
   "outputs": [],
   "source": [
    "job = execute(circuit, backend=q_comp)"
   ]
  },
  {
   "cell_type": "markdown",
   "id": "665fc999",
   "metadata": {},
   "source": [
    "monitor the job"
   ]
  },
  {
   "cell_type": "code",
   "execution_count": 53,
   "id": "56d9a425",
   "metadata": {},
   "outputs": [],
   "source": [
    "from qiskit.tools.monitor import job_monitor"
   ]
  },
  {
   "cell_type": "code",
   "execution_count": 60,
   "id": "a0f91c02",
   "metadata": {},
   "outputs": [
    {
     "name": "stdout",
     "output_type": "stream",
     "text": [
      "Job Status: job has successfully run\n"
     ]
    }
   ],
   "source": [
    "job_monitor(job)"
   ]
  },
  {
   "cell_type": "markdown",
   "id": "17de463c",
   "metadata": {},
   "source": [
    "when done, get the results of the job"
   ]
  },
  {
   "cell_type": "code",
   "execution_count": 61,
   "id": "6a6f8401",
   "metadata": {},
   "outputs": [],
   "source": [
    "result = job.result()"
   ]
  },
  {
   "cell_type": "code",
   "execution_count": 62,
   "id": "f7654da0",
   "metadata": {},
   "outputs": [
    {
     "data": {
      "image/png": "[encoded data removed]",
      "text/plain": [
       "<Figure size 700x500 with 1 Axes>"
      ]
     },
     "execution_count": 62,
     "metadata": {},
     "output_type": "execute_result"
    }
   ],
   "source": [
    "plot_histogram(result.get_counts(circuit))"
   ]
  },
  {
   "cell_type": "code",
   "execution_count": null,
   "id": "97eb1496",
   "metadata": {},
   "outputs": [],
   "source": []
  }
 ],
 "metadata": {
  "kernelspec": {
   "display_name": "Python 3 (ipykernel)",
   "language": "python",
   "name": "python3"
  },
  "language_info": {
   "codemirror_mode": {
    "name": "ipython",
    "version": 3
   },
   "file_extension": ".py",
   "mimetype": "text/x-python",
   "name": "python",
   "nbconvert_exporter": "python",
   "pygments_lexer": "ipython3",
   "version": "3.10.8"
  }
 },
 "nbformat": 4,
 "nbformat_minor": 5
}
